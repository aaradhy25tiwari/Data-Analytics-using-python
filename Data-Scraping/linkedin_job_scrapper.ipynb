{
 "cells": [
  {
   "cell_type": "code",
   "execution_count": 1,
   "metadata": {},
   "outputs": [],
   "source": [
    "# Import required libraries\n",
    "from datetime import datetime\n",
    "import csv\n",
    "import requests\n",
    "from bs4 import BeautifulSoup\n",
    "import time"
   ]
  },
  {
   "cell_type": "code",
   "execution_count": 2,
   "metadata": {},
   "outputs": [],
   "source": [
    "# Generating a URL with a function\n",
    "def generate_url(position, location):\n",
    "    base_url = \"https://example.com/jobs?q={}&l={}\"  # Example URL template\n",
    "    # Replace example URL with the actual URL template of the job posting site\n",
    "    url = base_url.format(position, location)\n",
    "    return url"
   ]
  },
  {
   "cell_type": "code",
   "execution_count": 3,
   "metadata": {},
   "outputs": [],
   "source": [
    "# Extract the Job Data from a single job posting card\n",
    "def extract_job_data(job_posting):\n",
    "    try:\n",
    "        job_title = job_posting.find('h2', class_='job-title').text.strip()\n",
    "    except AttributeError:\n",
    "        job_title = \"\"\n",
    "    \n",
    "    try:\n",
    "        company_name = job_posting.find('span', class_='company-name').text.strip()\n",
    "    except AttributeError:\n",
    "        company_name = \"\"\n",
    "    \n",
    "    try:\n",
    "        location = job_posting.find('span', class_='location').text.strip()\n",
    "    except AttributeError:\n",
    "        location = \"\"\n",
    "    \n",
    "    # Continue extracting other relevant job data\n",
    "    \n",
    "    return {\n",
    "        'Job Title': job_title,\n",
    "        'Company': company_name,\n",
    "        'Location': location\n",
    "        # Add more fields as needed\n",
    "    }"
   ]
  },
  {
   "cell_type": "code",
   "execution_count": 4,
   "metadata": {},
   "outputs": [],
   "source": [
    "# Define the main function\n",
    "def main(job_position, location):\n",
    "    # 1. Set headers\n",
    "    headers = {'User-Agent': 'Mozilla/5.0'}\n",
    "    \n",
    "    # 2. Construct URL\n",
    "    url = generate_url(job_position, location)\n",
    "    \n",
    "    # 3. Send HTTP request and retrieve HTML\n",
    "    response = requests.get(url, headers=headers)\n",
    "    soup = BeautifulSoup(response.text, 'html.parser')\n",
    "    \n",
    "    # 4. Parse HTML and select job postings\n",
    "    job_postings = soup.find_all('div', class_='job-posting')\n",
    "    \n",
    "    job_data_list = []\n",
    "    \n",
    "    # 5. Extract job posting information\n",
    "    for job_posting in job_postings:\n",
    "        job_data = extract_job_data(job_posting)\n",
    "        job_data_list.append(job_data)\n",
    "    \n",
    "    # 6. Write data to CSV file\n",
    "    filename = f\"{job_position}_{location}_jobs_{datetime.now().strftime('%Y-%m-%d_%H-%M-%S')}.csv\"\n",
    "    with open(filename, 'w', newline='', encoding='utf-8') as csvfile:\n",
    "        fieldnames = ['Job Title', 'Company', 'Location']  # Add more fields as needed\n",
    "        writer = csv.DictWriter(csvfile, fieldnames=fieldnames)\n",
    "        \n",
    "        writer.writeheader()\n",
    "        for job_data in job_data_list:\n",
    "            writer.writerow(job_data)\n",
    "    \n",
    "    # 7. Print success message\n",
    "    print(\"Job data extraction successful. CSV file created:\", filename)\n"
   ]
  }
 ],
 "metadata": {
  "kernelspec": {
   "display_name": "Python 3",
   "language": "python",
   "name": "python3"
  },
  "language_info": {
   "codemirror_mode": {
    "name": "ipython",
    "version": 3
   },
   "file_extension": ".py",
   "mimetype": "text/x-python",
   "name": "python",
   "nbconvert_exporter": "python",
   "pygments_lexer": "ipython3",
   "version": "3.12.4"
  }
 },
 "nbformat": 4,
 "nbformat_minor": 2
}
